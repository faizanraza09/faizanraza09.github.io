{
 "cells": [
  {
   "cell_type": "code",
   "execution_count": 1,
   "id": "e2bb34c8",
   "metadata": {},
   "outputs": [],
   "source": [
    "import instaloader\n",
    "from instaloader import Instaloader,Profile\n",
    "\n",
    "L= instaloader.Instaloader()"
   ]
  },
  {
   "cell_type": "code",
   "execution_count": 6,
   "id": "2c306eb6",
   "metadata": {},
   "outputs": [
    {
     "name": "stdout",
     "output_type": "stream",
     "text": [
      "daviddoubilet/2017-11-17_21-49-21_UTC.jpg [A harp seal pup, called a whi…] json \n",
      "daviddoubilet/2019-09-23_17-00-39_UTC.jpg [Waves and wind sculpt a groun…] json \n",
      "daviddoubilet/2018-04-20_06-02-11_UTC.jpg [As I board a plane heading to…] json \n",
      "daviddoubilet/2017-06-18_14-23-05_UTC.jpg [Salute to fathers in the sea.…] json \n",
      "daviddoubilet/2019-09-25_22-05-24_UTC.jpg [Opal Reef on the Great Barrie…] json \n",
      "daviddoubilet/2018-06-26_22-35-18_UTC.jpg [A harp seal pup called white …] json \n",
      "daviddoubilet/2016-05-24_00-35-37_UTC.jpg [May 23 is World Turtle Day. M…] json \n",
      "daviddoubilet/2017-09-11_01-48-40_UTC.jpg [My image of a green sea turtl…] json \n",
      "daviddoubilet/2017-05-20_09-37-38_UTC.jpg [Hidden Doom. A small fish unk…] json \n",
      "daviddoubilet/2017-07-06_07-19-12_UTC.jpg [Garden eels sway and feed in …] json \n"
     ]
    }
   ],
   "source": [
    "PROFILE = 'daviddoubilet'\n",
    "profile = Profile.from_username(L.context,PROFILE)\n",
    "\n",
    "posts_sorted_by_likes = sorted(profile.get_posts(), key =lambda post:post.likes,reverse=True)\n",
    "\n",
    "for post in posts_sorted_by_likes[:10]:\n",
    "    L.download_post(post,PROFILE)"
   ]
  },
  {
   "cell_type": "code",
   "execution_count": 2,
   "id": "3e0ca05e",
   "metadata": {},
   "outputs": [
    {
     "name": "stdout",
     "output_type": "stream",
     "text": [
      "emilie.hofferber/2022-12-14_16-42-31_UTC_1.jpg emilie.hofferber/2022-12-14_16-42-31_UTC_2.jpg emilie.hofferber/2022-12-14_16-42-31_UTC_3.jpg emilie.hofferber/2022-12-14_16-42-31_UTC_4.jpg emilie.hofferber/2022-12-14_16-42-31_UTC_5.jpg emilie.hofferber/2022-12-14_16-42-31_UTC_6.jpg emilie.hofferber/2022-12-14_16-42-31_UTC_7.jpg emilie.hofferber/2022-12-14_16-42-31_UTC_8.jpg [dreaming of summer wildflower…] json \n",
      "emilie.hofferber/2022-12-26_15-32-10_UTC_1.jpg emilie.hofferber/2022-12-26_15-32-10_UTC_2.jpg emilie.hofferber/2022-12-26_15-32-10_UTC_3.jpg emilie.hofferber/2022-12-26_15-32-10_UTC_4.jpg emilie.hofferber/2022-12-26_15-32-10_UTC_5.jpg emilie.hofferber/2022-12-26_15-32-10_UTC_6.jpg emilie.hofferber/2022-12-26_15-32-10_UTC_7.jpg emilie.hofferber/2022-12-26_15-32-10_UTC_8.jpg emilie.hofferber/2022-12-26_15-32-10_UTC_9.jpg emilie.hofferber/2022-12-26_15-32-10_UTC_10.jpg [just wrapped up a weekend in …] json \n",
      "emilie.hofferber/2022-12-28_16-52-39_UTC_1.jpg emilie.hofferber/2022-12-28_16-52-39_UTC_2.jpg emilie.hofferber/2022-12-28_16-52-39_UTC_3.jpg emilie.hofferber/2022-12-28_16-52-39_UTC_4.jpg emilie.hofferber/2022-12-28_16-52-39_UTC_5.jpg emilie.hofferber/2022-12-28_16-52-39_UTC_6.jpg emilie.hofferber/2022-12-28_16-52-39_UTC_7.jpg emilie.hofferber/2022-12-28_16-52-39_UTC_8.jpg emilie.hofferber/2022-12-28_16-52-39_UTC_9.jpg emilie.hofferber/2022-12-28_16-52-39_UTC_10.jpg [2022 favorites, as told by in…] json \n",
      "emilie.hofferber/2023-01-06_16-14-27_UTC_1.jpg emilie.hofferber/2023-01-06_16-14-27_UTC_2.jpg emilie.hofferber/2023-01-06_16-14-27_UTC_3.jpg emilie.hofferber/2023-01-06_16-14-27_UTC_4.jpg emilie.hofferber/2023-01-06_16-14-27_UTC_5.jpg emilie.hofferber/2023-01-06_16-14-27_UTC_6.jpg emilie.hofferber/2023-01-06_16-14-27_UTC_7.jpg emilie.hofferber/2023-01-06_16-14-27_UTC_8.jpg emilie.hofferber/2023-01-06_16-14-27_UTC_9.jpg emilie.hofferber/2023-01-06_16-14-27_UTC_10.jpg [hibernating until the pnw loo…] json \n",
      "emilie.hofferber/2023-03-05_16-02-06_UTC_1.jpg emilie.hofferber/2023-03-05_16-02-06_UTC_2.jpg emilie.hofferber/2023-03-05_16-02-06_UTC_3.jpg emilie.hofferber/2023-03-05_16-02-06_UTC_4.jpg emilie.hofferber/2023-03-05_16-02-06_UTC_5.jpg emilie.hofferber/2023-03-05_16-02-06_UTC_6.jpg emilie.hofferber/2023-03-05_16-02-06_UTC_7.jpg emilie.hofferber/2023-03-05_16-02-06_UTC_8.jpg emilie.hofferber/2023-03-05_16-02-06_UTC_9.jpg emilie.hofferber/2023-03-05_16-02-06_UTC_10.jpg [glacier national park is my f…] json \n",
      "emilie.hofferber/2022-10-09_15-25-43_UTC_1.jpg emilie.hofferber/2022-10-09_15-25-43_UTC_2.jpg emilie.hofferber/2022-10-09_15-25-43_UTC_3.jpg emilie.hofferber/2022-10-09_15-25-43_UTC_4.jpg emilie.hofferber/2022-10-09_15-25-43_UTC_5.jpg emilie.hofferber/2022-10-09_15-25-43_UTC_6.jpg emilie.hofferber/2022-10-09_15-25-43_UTC_7.jpg emilie.hofferber/2022-10-09_15-25-43_UTC_8.jpg emilie.hofferber/2022-10-09_15-25-43_UTC_9.jpg emilie.hofferber/2022-10-09_15-25-43_UTC_10.jpg [some of my favorite photos fr…] json \n",
      "emilie.hofferber/2023-01-03_18-11-34_UTC_1.jpg emilie.hofferber/2023-01-03_18-11-34_UTC_2.jpg emilie.hofferber/2023-01-03_18-11-34_UTC_3.jpg emilie.hofferber/2023-01-03_18-11-34_UTC_4.jpg emilie.hofferber/2023-01-03_18-11-34_UTC_5.jpg emilie.hofferber/2023-01-03_18-11-34_UTC_6.jpg [pov: you love the desert  1- …] json \n",
      "emilie.hofferber/2022-12-24_17-37-29_UTC_1.jpg emilie.hofferber/2022-12-24_17-37-29_UTC_2.jpg emilie.hofferber/2022-12-24_17-37-29_UTC_3.jpg emilie.hofferber/2022-12-24_17-37-29_UTC_4.jpg emilie.hofferber/2022-12-24_17-37-29_UTC_5.jpg emilie.hofferber/2022-12-24_17-37-29_UTC_6.jpg emilie.hofferber/2022-12-24_17-37-29_UTC_7.jpg [a sense of scale] json \n",
      "emilie.hofferber/2023-01-05_15-54-13_UTC_1.jpg emilie.hofferber/2023-01-05_15-54-13_UTC_2.jpg emilie.hofferber/2023-01-05_15-54-13_UTC_3.jpg emilie.hofferber/2023-01-05_15-54-13_UTC_4.jpg emilie.hofferber/2023-01-05_15-54-13_UTC_5.jpg emilie.hofferber/2023-01-05_15-54-13_UTC_6.jpg emilie.hofferber/2023-01-05_15-54-13_UTC_7.jpg emilie.hofferber/2023-01-05_15-54-13_UTC_8.jpg [a collection of reflections /…] json \n",
      "emilie.hofferber/2023-02-24_20-57-16_UTC_1.jpg emilie.hofferber/2023-02-24_20-57-16_UTC_2.jpg emilie.hofferber/2023-02-24_20-57-16_UTC_3.jpg emilie.hofferber/2023-02-24_20-57-16_UTC_4.jpg emilie.hofferber/2023-02-24_20-57-16_UTC_5.jpg emilie.hofferber/2023-02-24_20-57-16_UTC_6.jpg [moments in the southwest i’ll…] json \n"
     ]
    }
   ],
   "source": [
    "PROFILE = 'emilie.hofferber'\n",
    "profile = Profile.from_username(L.context,PROFILE)\n",
    "\n",
    "posts_sorted_by_likes = sorted(profile.get_posts(), key =lambda post:post.likes,reverse=True)\n",
    "\n",
    "for post in posts_sorted_by_likes[:10]:\n",
    "    L.download_post(post,PROFILE)"
   ]
  },
  {
   "cell_type": "code",
   "execution_count": 3,
   "id": "430375f0",
   "metadata": {},
   "outputs": [
    {
     "name": "stdout",
     "output_type": "stream",
     "text": [
      "moheim/2019-10-11_04-45-42_UTC.jpg [The three of us knelt around …] json \n",
      "moheim/2021-11-15_23-37-40_UTC.jpg [An endangered Columbia Basin …] json \n",
      "moheim/2018-11-30_17-08-06_UTC.jpg [A little thing flying fearles…] json \n",
      "moheim/2019-02-23_04-18-01_UTC.jpg [I swear burrowing owls have e…] json \n",
      "moheim/2020-04-15_21-24-40_UTC.jpg [He’s working on his GQ moment…] json \n",
      "moheim/2019-08-03_21-09-51_UTC_1.jpg moheim/2019-08-03_21-09-51_UTC_2.jpg moheim/2019-08-03_21-09-51_UTC_3.jpg moheim/2019-08-03_21-09-51_UTC_4.jpg moheim/2019-08-03_21-09-51_UTC_5.jpg moheim/2019-08-03_21-09-51_UTC_6.jpg [What do you love about bison?…] json \n",
      "moheim/2019-01-16_20-14-18_UTC.jpg [So excited to return to Santa…] json \n",
      "moheim/2019-02-09_19-04-51_UTC.jpg [A herd of capybara enjoy a li…] json \n",
      "moheim/2019-03-07_20-59-42_UTC.jpg [A few years ago tallgrass pra…] json \n",
      "moheim/2021-08-06_18-49-22_UTC_1.jpg moheim/2021-08-06_18-49-22_UTC_2.jpg moheim/2021-08-06_18-49-22_UTC_3.jpg moheim/2021-08-06_18-49-22_UTC_4.jpg [Looks can be deceiving. To be…] json \n"
     ]
    }
   ],
   "source": [
    "PROFILE = 'moheim'\n",
    "profile = Profile.from_username(L.context,PROFILE)\n",
    "\n",
    "posts_sorted_by_likes = sorted(profile.get_posts(), key =lambda post:post.likes,reverse=True)\n",
    "\n",
    "for post in posts_sorted_by_likes[:10]:\n",
    "    L.download_post(post,PROFILE)"
   ]
  },
  {
   "cell_type": "code",
   "execution_count": 4,
   "id": "99e00f96",
   "metadata": {},
   "outputs": [
    {
     "name": "stdout",
     "output_type": "stream",
     "text": [
      "seanparkerphotography/2017-11-08_14-45-17_UTC.jpg [I’m currently on a layover in…] seanparkerphotography/2017-11-08_14-45-17_UTC.mp4 json \n",
      "seanparkerphotography/2019-01-20_20-12-33_UTC_1.jpg seanparkerphotography/2019-01-20_20-12-33_UTC_2.jpg seanparkerphotography/2019-01-20_20-12-33_UTC_3.jpg [Make sure to look up at the T…] json \n",
      "seanparkerphotography/2017-08-21_19-49-08_UTC.jpg [\"Totality\" - The Great Americ…] json \n",
      "seanparkerphotography/2020-06-11_17-54-26_UTC_1.jpg seanparkerphotography/2020-06-11_17-54-26_UTC_2.jpg seanparkerphotography/2020-06-11_17-54-26_UTC_3.jpg seanparkerphotography/2020-06-11_17-54-26_UTC_4.jpg seanparkerphotography/2020-06-11_17-54-26_UTC_5.jpg seanparkerphotography/2020-06-11_17-54-26_UTC_6.jpg [A few photos from the bighorn…] json \n",
      "seanparkerphotography/2019-05-27_03-08-18_UTC_1.jpg seanparkerphotography/2019-05-27_03-08-18_UTC_2.jpg seanparkerphotography/2019-05-27_03-08-18_UTC_3.jpg [Swipe left to see the iconic …] json \n",
      "seanparkerphotography/2018-10-08_03-33-53_UTC.jpg [Holy carp! My milkyway worksh…] json \n",
      "seanparkerphotography/2019-01-21_11-00-56_UTC.jpg [Total Lunar Eclipse seen from…] json \n",
      "seanparkerphotography/2018-10-13_00-00-34_UTC.jpg [Falcon 9 Rocket Launch ————— …] seanparkerphotography/2018-10-13_00-00-34_UTC.mp4 json \n",
      "seanparkerphotography/2018-10-09_00-01-31_UTC.jpg [Science! ————— I’m still havi…] json \n",
      "seanparkerphotography/2020-07-10_00-41-56_UTC.jpg [Another shot of Comet Neowise…] json \n"
     ]
    }
   ],
   "source": [
    "PROFILE = 'seanparkerphotography'\n",
    "profile = Profile.from_username(L.context,PROFILE)\n",
    "\n",
    "posts_sorted_by_likes = sorted(profile.get_posts(), key =lambda post:post.likes,reverse=True)\n",
    "\n",
    "for post in posts_sorted_by_likes[:10]:\n",
    "    L.download_post(post,PROFILE)"
   ]
  },
  {
   "cell_type": "code",
   "execution_count": 5,
   "id": "1b758be9",
   "metadata": {},
   "outputs": [
    {
     "name": "stdout",
     "output_type": "stream",
     "text": [
      "joelsartore/2023-02-12_15-40-53_UTC.jpg [A healthy owl population is a…] joelsartore/2023-02-12_15-40-53_UTC.mp4 json \n",
      "joelsartore/2019-12-14_17-11-08_UTC.jpg [Love monkeys like this endang…] json \n",
      "joelsartore/2017-12-29_15-14-51_UTC.jpg [Meet Piper, a Brazilian porcu…] json \n",
      "joelsartore/2022-03-11_15-10-35_UTC.jpg [Very rare and highly secretiv…] joelsartore/2022-03-11_15-10-35_UTC.mp4 json \n",
      "joelsartore/2022-06-29_13-17-47_UTC.jpg [Two juvenile brown-throated s…] joelsartore/2022-06-29_13-17-47_UTC.mp4 json \n",
      "joelsartore/2019-02-22_12-28-29_UTC.jpg [Very few rodents rate as high…] json \n",
      "joelsartore/2018-05-22_14-34-34_UTC.jpg [These exuberant birds are vul…] json \n",
      "joelsartore/2018-10-09_20-14-18_UTC_1.jpg joelsartore/2018-10-09_20-14-18_UTC_2.jpg [I am excited to announce my P…] json \n",
      "joelsartore/2019-03-25_12-08-45_UTC_1.jpg joelsartore/2019-03-25_12-08-45_UTC_2.jpg joelsartore/2019-03-25_12-08-45_UTC_3.jpg joelsartore/2019-03-25_12-08-45_UTC_4.jpg joelsartore/2019-03-25_12-08-45_UTC_5.jpg [Today is a big day for the Ph…] json \n",
      "joelsartore/2019-02-19_15-25-51_UTC.jpg [#natgeo100contest @natgeo hit…] json \n"
     ]
    }
   ],
   "source": [
    "PROFILE = 'joelsartore'\n",
    "profile = Profile.from_username(L.context,PROFILE)\n",
    "\n",
    "posts_sorted_by_likes = sorted(profile.get_posts(), key =lambda post:post.likes,reverse=True)\n",
    "\n",
    "for post in posts_sorted_by_likes[:10]:\n",
    "    L.download_post(post,PROFILE)"
   ]
  },
  {
   "cell_type": "code",
   "execution_count": 6,
   "id": "363758ea",
   "metadata": {},
   "outputs": [
    {
     "name": "stdout",
     "output_type": "stream",
     "text": [
      "paulnicklen/2021-06-08_17-25-16_UTC.jpg [🔈 // I want to share one of t…] paulnicklen/2021-06-08_17-25-16_UTC.mp4 json \n",
      "paulnicklen/2022-10-25_20-40-06_UTC.jpg [‘Megaptera’ - On the day I ca…] paulnicklen/2022-10-25_20-40-06_UTC.mp4 json \n",
      "paulnicklen/2021-09-22_17-13-00_UTC_1.jpg paulnicklen/2021-09-22_17-13-00_UTC_2.jpg paulnicklen/2021-09-22_17-13-00_UTC_3.jpg paulnicklen/2021-09-22_17-13-00_UTC_4.jpg paulnicklen/2021-09-22_17-13-00_UTC_5.jpg paulnicklen/2021-09-22_17-13-00_UTC_6.jpg [Please comment with a 💔 if yo…] json \n",
      "paulnicklen/2020-01-04_17-21-39_UTC_1.jpg paulnicklen/2020-01-04_17-21-39_UTC_2.jpg paulnicklen/2020-01-04_17-21-39_UTC_3.jpg paulnicklen/2020-01-04_17-21-39_UTC_4.jpg paulnicklen/2020-01-04_17-21-39_UTC_5.jpg paulnicklen/2020-01-04_17-21-39_UTC_6.jpg paulnicklen/2020-01-04_17-21-39_UTC_7.jpg [Warning: Graphic content.  Is…] json \n",
      "paulnicklen/2019-09-29_08-51-36_UTC.jpg [I knew that no matter what pi…] json \n",
      "paulnicklen/2018-11-21_13-12-35_UTC.jpg [Some wildlife species are bor…] json \n",
      "paulnicklen/2020-08-06_20-27-45_UTC.jpg [🔈 // There are some breath-ho…] paulnicklen/2020-08-06_20-27-45_UTC.mp4 json \n",
      "paulnicklen/2019-03-31_12-02-26_UTC_1.jpg paulnicklen/2019-03-31_12-02-26_UTC_2.jpg paulnicklen/2019-03-31_12-02-26_UTC_3.jpg paulnicklen/2019-03-31_12-02-26_UTC_4.jpg paulnicklen/2019-03-31_12-02-26_UTC_5.jpg paulnicklen/2019-03-31_12-02-26_UTC_6.jpg paulnicklen/2019-03-31_12-02-26_UTC_7.jpg paulnicklen/2019-03-31_12-02-26_UTC_8.jpg [Here are some of my favorite …] json \n",
      "paulnicklen/2018-12-28_20-37-15_UTC.jpg [I have either lived or worked…] json \n",
      "paulnicklen/2019-12-16_12-07-50_UTC.jpg [The sperm whale is the larges…] json \n"
     ]
    }
   ],
   "source": [
    "PROFILE = 'paulnicklen'\n",
    "profile = Profile.from_username(L.context,PROFILE)\n",
    "\n",
    "posts_sorted_by_likes = sorted(profile.get_posts(), key =lambda post:post.likes,reverse=True)\n",
    "\n",
    "for post in posts_sorted_by_likes[:10]:\n",
    "    L.download_post(post,PROFILE)"
   ]
  },
  {
   "cell_type": "code",
   "execution_count": 7,
   "id": "92526976",
   "metadata": {},
   "outputs": [
    {
     "name": "stdout",
     "output_type": "stream",
     "text": [
      "wayne_pinkston/2022-02-02_22-07-34_UTC_1.jpg wayne_pinkston/2022-02-02_22-07-34_UTC_2.jpg wayne_pinkston/2022-02-02_22-07-34_UTC_3.jpg wayne_pinkston/2022-02-02_22-07-34_UTC_4.jpg [(Swipe Left) The Balancing Ac…] json \n",
      "wayne_pinkston/2022-02-05_20-48-00_UTC_1.jpg wayne_pinkston/2022-02-05_20-48-00_UTC_2.jpg wayne_pinkston/2022-02-05_20-48-00_UTC_3.jpg wayne_pinkston/2022-02-05_20-48-00_UTC_4.jpg [Mauve Mushrooms:  I hope to b…] json \n",
      "wayne_pinkston/2021-09-01_18-14-55_UTC.jpg [Moonlighting: This is a seldo…] json \n",
      "wayne_pinkston/2019-01-27_17-15-28_UTC.jpg [Panorama of the Aurora in Sig…] json \n",
      "wayne_pinkston/2021-06-12_18-40-42_UTC.jpg [How does this not fall over? …] json \n",
      "wayne_pinkston/2019-02-08_15-33-55_UTC_1.jpg wayne_pinkston/2019-02-08_15-33-55_UTC_2.jpg wayne_pinkston/2019-02-08_15-33-55_UTC_3.jpg [One of my personal favorite a…] json \n",
      "wayne_pinkston/2021-11-11_20-23-54_UTC_1.jpg wayne_pinkston/2021-11-11_20-23-54_UTC_2.jpg wayne_pinkston/2021-11-11_20-23-54_UTC_3.jpg wayne_pinkston/2021-11-11_20-23-54_UTC_4.jpg wayne_pinkston/2021-11-11_20-23-54_UTC_5.jpg wayne_pinkston/2021-11-11_20-23-54_UTC_6.jpg wayne_pinkston/2021-11-11_20-23-54_UTC_7.jpg wayne_pinkston/2021-11-11_20-23-54_UTC_8.jpg [. Royce Bair & Wayne Pinkson …] json \n",
      "wayne_pinkston/2021-09-11_00-56-59_UTC_1.jpg wayne_pinkston/2021-09-11_00-56-59_UTC_2.jpg wayne_pinkston/2021-09-11_00-56-59_UTC_3.jpg wayne_pinkston/2021-09-11_00-56-59_UTC_4.jpg wayne_pinkston/2021-09-11_00-56-59_UTC_4.mp4 wayne_pinkston/2021-09-11_00-56-59_UTC_5.jpg [Saved by my light stand! I al…] json \n",
      "wayne_pinkston/2018-08-19_20-48-52_UTC.jpg [Big Hogan Arch in Monument Va…] json \n",
      "wayne_pinkston/2018-08-30_20-51-34_UTC.jpg [Moccasin Arch in Monument Val…] json \n"
     ]
    }
   ],
   "source": [
    "PROFILE = 'wayne_pinkston'\n",
    "profile = Profile.from_username(L.context,PROFILE)\n",
    "\n",
    "posts_sorted_by_likes = sorted(profile.get_posts(), key =lambda post:post.likes,reverse=True)\n",
    "\n",
    "for post in posts_sorted_by_likes[:10]:\n",
    "    L.download_post(post,PROFILE)"
   ]
  },
  {
   "cell_type": "code",
   "execution_count": 12,
   "id": "49a9c7b4",
   "metadata": {},
   "outputs": [
    {
     "name": "stdout",
     "output_type": "stream",
     "text": [
      "kilianschoenberger/2018-06-09_13-12-04_UTC.jpg [The Shire Cultural landscape …] json \n",
      "kilianschoenberger/2018-05-14_12-59-55_UTC.jpg [Forest Dreams  Counting trees…] json \n",
      "kilianschoenberger/2018-01-31_16-28-28_UTC.jpg [Seiseralm Magic  In autumn I …] json \n",
      "kilianschoenberger/2021-01-02_13-05-15_UTC.jpg [Endless Bavaria. Layercake. S…] json \n",
      "kilianschoenberger/2020-12-21_14-17-11_UTC.jpg [A surreal Dream to remember i…] json \n",
      "kilianschoenberger/2020-10-24_14-04-34_UTC.jpg [The Perfect Circle? The bridg…] json \n",
      "kilianschoenberger/2018-06-03_15-31-43_UTC.jpg [The Hills Have Eyes  The cond…] json \n",
      "kilianschoenberger/2018-12-09_14-03-34_UTC.jpg [Fog is my Obsession #awesomed…] json \n",
      "kilianschoenberger/2018-03-09_14-04-32_UTC.jpg [Foggy Days  Bavaria Germany  …] json \n",
      "kilianschoenberger/2018-05-09_13-38-41_UTC.jpg [Stay Strong  Earth pillars in…] json \n"
     ]
    }
   ],
   "source": [
    "PROFILE = 'kilianschoenberger'\n",
    "profile = Profile.from_username(L.context,PROFILE)\n",
    "\n",
    "posts_sorted_by_likes = sorted(profile.get_posts(), key =lambda post:post.likes,reverse=True)\n",
    "\n",
    "for post in posts_sorted_by_likes[:10]:\n",
    "    L.download_post(post,PROFILE)"
   ]
  },
  {
   "cell_type": "code",
   "execution_count": 10,
   "id": "133ced96",
   "metadata": {},
   "outputs": [
    {
     "name": "stdout",
     "output_type": "stream",
     "text": [
      "nickbrandtphotography/2023-01-05_19-32-28_UTC_1.jpg nickbrandtphotography/2023-01-05_19-32-28_UTC_2.jpg nickbrandtphotography/2023-01-05_19-32-28_UTC_3.jpg nickbrandtphotography/2023-01-05_19-32-28_UTC_4.jpg nickbrandtphotography/2023-01-05_19-32-28_UTC_5.jpg nickbrandtphotography/2023-01-05_19-32-28_UTC_6.jpg nickbrandtphotography/2023-01-05_19-32-28_UTC_7.jpg nickbrandtphotography/2023-01-05_19-32-28_UTC_8.jpg nickbrandtphotography/2023-01-05_19-32-28_UTC_9.jpg [Excellent profile feature in …] json \n",
      "nickbrandtphotography/2022-06-15_14-22-35_UTC_1.jpg nickbrandtphotography/2022-06-15_14-22-35_UTC_2.jpg [Harriet and People in Fog, Zi…] json \n",
      "nickbrandtphotography/2022-08-23_15-15-24_UTC_1.jpg nickbrandtphotography/2022-08-23_15-15-24_UTC_2.jpg nickbrandtphotography/2022-08-23_15-15-24_UTC_3.jpg nickbrandtphotography/2022-08-23_15-15-24_UTC_4.jpg nickbrandtphotography/2022-08-23_15-15-24_UTC_5.jpg nickbrandtphotography/2022-08-23_15-15-24_UTC_6.jpg nickbrandtphotography/2022-08-23_15-15-24_UTC_7.jpg nickbrandtphotography/2022-08-23_15-15-24_UTC_8.jpg nickbrandtphotography/2022-08-23_15-15-24_UTC_9.jpg nickbrandtphotography/2022-08-23_15-15-24_UTC_10.jpg [10 x behind the scenes photos…] json \n",
      "nickbrandtphotography/2022-08-19_15-38-29_UTC.jpg [Please check out the conversa…] json \n",
      "nickbrandtphotography/2021-09-09_16-06-02_UTC.jpg [Richard and Grace, Zimbabwe, …] json \n",
      "nickbrandtphotography/2023-03-22_14-42-35_UTC_1.jpg nickbrandtphotography/2023-03-22_14-42-35_UTC_2.jpg nickbrandtphotography/2023-03-22_14-42-35_UTC_3.jpg nickbrandtphotography/2023-03-22_14-42-35_UTC_4.jpg nickbrandtphotography/2023-03-22_14-42-35_UTC_5.jpg nickbrandtphotography/2023-03-22_14-42-35_UTC_6.jpg nickbrandtphotography/2023-03-22_14-42-35_UTC_7.jpg nickbrandtphotography/2023-03-22_14-42-35_UTC_8.jpg nickbrandtphotography/2023-03-22_14-42-35_UTC_9.jpg nickbrandtphotography/2023-03-22_14-42-35_UTC_10.jpg [A slide show of behind the sc…] json \n",
      "nickbrandtphotography/2021-09-26_15-01-41_UTC_1.jpg nickbrandtphotography/2021-09-26_15-01-41_UTC_2.jpg [JOHN AND MAK, ZIMBABWE, 2020,…] json \n",
      "nickbrandtphotography/2021-09-21_15-16-02_UTC.jpg [I’m kind of in love with Harr…] json \n",
      "nickbrandtphotography/2020-07-31_15-01-05_UTC_1.jpg nickbrandtphotography/2020-07-31_15-01-05_UTC_2.jpg nickbrandtphotography/2020-07-31_15-01-05_UTC_3.jpg nickbrandtphotography/2020-07-31_15-01-05_UTC_4.jpg [I wish that I had never had t…] json \n",
      "nickbrandtphotography/2022-05-21_14-52-08_UTC_1.jpg nickbrandtphotography/2022-05-21_14-52-08_UTC_2.jpg nickbrandtphotography/2022-05-21_14-52-08_UTC_3.jpg nickbrandtphotography/2022-05-21_14-52-08_UTC_4.jpg nickbrandtphotography/2022-05-21_14-52-08_UTC_5.jpg [For those of you in NY planni…] json \n"
     ]
    }
   ],
   "source": [
    "PROFILE = 'nickbrandtphotography'\n",
    "profile = Profile.from_username(L.context,PROFILE)\n",
    "\n",
    "posts_sorted_by_likes = sorted(profile.get_posts(), key =lambda post:post.likes,reverse=True)\n",
    "\n",
    "for post in posts_sorted_by_likes[:10]:\n",
    "    L.download_post(post,PROFILE)"
   ]
  },
  {
   "cell_type": "code",
   "execution_count": 11,
   "id": "7a768851",
   "metadata": {},
   "outputs": [
    {
     "name": "stdout",
     "output_type": "stream",
     "text": [
      "amivitale/2021-08-16_23-36-27_UTC_1.jpg amivitale/2021-08-16_23-36-27_UTC_2.jpg amivitale/2021-08-16_23-36-27_UTC_3.jpg amivitale/2021-08-16_23-36-27_UTC_4.jpg amivitale/2021-08-16_23-36-27_UTC_5.jpg amivitale/2021-08-16_23-36-27_UTC_6.jpg amivitale/2021-08-16_23-36-27_UTC_7.jpg amivitale/2021-08-16_23-36-27_UTC_8.jpg amivitale/2021-08-16_23-36-27_UTC_9.jpg amivitale/2021-08-16_23-36-27_UTC_10.jpg [Photos by @amivitale. The Tal…] json \n",
      "amivitale/2020-01-06_16-35-17_UTC_1.jpg amivitale/2020-01-06_16-35-17_UTC_1.mp4 amivitale/2020-01-06_16-35-17_UTC_2.jpg [Video by Oakbank Balhannah CF…] json \n",
      "amivitale/2019-11-11_18-21-54_UTC.jpg [Photo by @amivitale. Envelope…] json \n",
      "amivitale/2021-10-20_18-28-31_UTC.jpg [Photo by @suzieszterhas. Happ…] json \n",
      "amivitale/2018-08-29_19-02-21_UTC.jpg [Video by @amivitale. A little…] amivitale/2018-08-29_19-02-21_UTC.mp4 json \n",
      "amivitale/2019-04-20_11-12-17_UTC.jpg [Photo by @amivitale. UPCOMING…] json \n",
      "amivitale/2021-07-08_16-30-12_UTC.jpg [Photo by @amivitale. I'm thri…] json \n",
      "amivitale/2018-03-20_06-48-30_UTC.jpg [Photo by @amivitale With a he…] json \n",
      "amivitale/2020-02-19_18-07-49_UTC.jpg [Photo by @amivitale. \"If wint…] json \n",
      "amivitale/2020-11-09_17-29-23_UTC.jpg [Want to see some EPIC art tha…] json \n"
     ]
    }
   ],
   "source": [
    "PROFILE = 'amivitale'\n",
    "profile = Profile.from_username(L.context,PROFILE)\n",
    "\n",
    "posts_sorted_by_likes = sorted(profile.get_posts(), key =lambda post:post.likes,reverse=True)\n",
    "\n",
    "for post in posts_sorted_by_likes[:10]:\n",
    "    L.download_post(post,PROFILE)"
   ]
  },
  {
   "cell_type": "code",
   "execution_count": null,
   "id": "15529a13",
   "metadata": {},
   "outputs": [],
   "source": [
    "PROFILE = 'daviddoubilet'\n",
    "profile = Profile.from_username(L.context,PROFILE)\n",
    "\n",
    "posts_sorted_by_likes = sorted(profile.get_posts(), key =lambda post:post.likes,reverse=True)\n",
    "\n",
    "for post in posts_sorted_by_likes[:10]:\n",
    "    L.download_post(post,PROFILE)"
   ]
  },
  {
   "cell_type": "code",
   "execution_count": null,
   "id": "54ba42f7",
   "metadata": {},
   "outputs": [],
   "source": [
    "PROFILE = 'daviddoubilet'\n",
    "profile = Profile.from_username(L.context,PROFILE)\n",
    "\n",
    "posts_sorted_by_likes = sorted(profile.get_posts(), key =lambda post:post.likes,reverse=True)\n",
    "\n",
    "for post in posts_sorted_by_likes[:10]:\n",
    "    L.download_post(post,PROFILE)"
   ]
  }
 ],
 "metadata": {
  "kernelspec": {
   "display_name": "Python 3 (ipykernel)",
   "language": "python",
   "name": "python3"
  },
  "language_info": {
   "codemirror_mode": {
    "name": "ipython",
    "version": 3
   },
   "file_extension": ".py",
   "mimetype": "text/x-python",
   "name": "python",
   "nbconvert_exporter": "python",
   "pygments_lexer": "ipython3",
   "version": "3.8.10"
  }
 },
 "nbformat": 4,
 "nbformat_minor": 5
}
